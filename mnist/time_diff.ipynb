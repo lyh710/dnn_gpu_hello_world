{
 "cells": [
  {
   "cell_type": "code",
   "execution_count": 1,
   "metadata": {},
   "outputs": [],
   "source": [
    "import warnings\n",
    "warnings.filterwarnings('ignore')\n",
    "\n",
    "import matplotlib.pyplot as plt\n",
    "import pickle\n",
    "import numpy as np"
   ]
  },
  {
   "cell_type": "markdown",
   "metadata": {},
   "source": [
    "## load time of cpu & gpu"
   ]
  },
  {
   "cell_type": "code",
   "execution_count": 2,
   "metadata": {},
   "outputs": [],
   "source": [
    "time_cpu = pickle.load(open('mnist_time_cpu.pkl', 'rb'))\n",
    "time_gpu = pickle.load(open('mnist_time_gpu.pkl', 'rb'))"
   ]
  },
  {
   "cell_type": "markdown",
   "metadata": {},
   "source": [
    "## calculate the statics"
   ]
  },
  {
   "cell_type": "code",
   "execution_count": 3,
   "metadata": {},
   "outputs": [],
   "source": [
    "mean_cpu = np.mean(time_cpu)\n",
    "mean_gpu = np.mean(time_gpu)\n",
    "\n",
    "std_cpu  = np.std(time_cpu)\n",
    "std_gpu  = np.std(time_gpu)"
   ]
  },
  {
   "cell_type": "markdown",
   "metadata": {},
   "source": [
    "## build the plot"
   ]
  },
  {
   "cell_type": "code",
   "execution_count": 4,
   "metadata": {},
   "outputs": [
    {
     "data": {
      "image/png": "[encoded data removed]",
      "text/plain": [
       "<Figure size 432x288 with 1 Axes>"
      ]
     },
     "metadata": {
      "needs_background": "light"
     },
     "output_type": "display_data"
    }
   ],
   "source": [
    "types = ['CPU', 'GPU']\n",
    "x_pos = np.arange(len(types))\n",
    "mean_time = [mean_cpu, mean_gpu]\n",
    "std_time  = [std_cpu, std_gpu]\n",
    "\n",
    "fig, ax = plt.subplots()\n",
    "ax.bar(x_pos, mean_time, yerr=std_time, align='center', alpha=0.5, ecolor='black', capsize=10)\n",
    "ax.set_ylabel('Time per Epoch')\n",
    "ax.set_xticks(x_pos)\n",
    "ax.set_xticklabels(types)\n",
    "ax.set_title('Time Diff between CPU & GPU')\n",
    "ax.yaxis.grid(True)\n",
    "\n",
    "# Save the figure and show\n",
    "plt.tight_layout()\n",
    "plt.savefig('time_diff_cpu_gpu.png')\n",
    "plt.show()"
   ]
  }
 ],
 "metadata": {
  "kernelspec": {
   "display_name": "Python 3",
   "language": "python",
   "name": "python3"
  },
  "language_info": {
   "codemirror_mode": {
    "name": "ipython",
    "version": 3
   },
   "file_extension": ".py",
   "mimetype": "text/x-python",
   "name": "python",
   "nbconvert_exporter": "python",
   "pygments_lexer": "ipython3",
   "version": "3.7.6"
  }
 },
 "nbformat": 4,
 "nbformat_minor": 4
}
