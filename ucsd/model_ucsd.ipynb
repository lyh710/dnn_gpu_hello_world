{
 "cells": [
  {
   "cell_type": "markdown",
   "metadata": {},
   "source": [
    "***Reference***\n",
    "\n",
    "https://towardsdatascience.com/prototyping-an-anomaly-detection-system-for-videos-step-by-step-using-lstm-convolutional-4e06b7dcdd29\n",
    "https://github.com/hashemsellat/Video-Anomaly-Detection/blob/master/lstmautoencoder.ipynb"
   ]
  },
  {
   "cell_type": "code",
   "execution_count": 2,
   "metadata": {},
   "outputs": [
    {
     "name": "stdout",
     "output_type": "stream",
     "text": [
      "False\n"
     ]
    }
   ],
   "source": [
    "import warnings\n",
    "warnings.filterwarnings('ignore')\n",
    "\n",
    "# Enforce CPU\n",
    "import os\n",
    "os.environ[\"CUDA_VISIBLE_DEVICES\"]=\"-1\"    \n",
    "import tensorflow as tf\n",
    "print(tf.test.is_gpu_available())\n",
    "\n",
    "import numpy as np\n",
    "import pickle, shutil\n",
    "import time\n",
    "\n",
    "from tensorflow.keras.models import Sequential\n",
    "from tensorflow.keras.layers import TimeDistributed, Conv2D, ConvLSTM2D, Conv2DTranspose\n",
    "from tensorflow.keras.layers import BatchNormalization\n",
    "# from keras_layer_normalization import LayerNormalization\n",
    "from tensorflow.keras import optimizers\n",
    "from tensorflow.keras.callbacks import TensorBoard, Callback"
   ]
  },
  {
   "cell_type": "code",
   "execution_count": null,
   "metadata": {},
   "outputs": [],
   "source": [
    "import warnings\n",
    "warnings.filterwarnings('ignore')\n",
    "\n",
    "# Enforce CPU\n",
    "import os\n",
    "os.environ[\"CUDA_VISIBLE_DEVICES\"]=\"-1\"    \n",
    "import tensorflow as tf\n",
    "print(tf.test.is_gpu_available())\n",
    "\n",
    "import numpy as np\n",
    "import random, pickle\n",
    "\n",
    "from keras.models import Sequential, load_model\n",
    "from keras.layers import TimeDistributed, Conv2D, ConvLSTM2D, Conv2DTranspose\n",
    "from keras.layers.normalization import BatchNormalization\n",
    "from keras import optimizers\n",
    "from keras.callbacks import TensorBoard, Callback\n",
    "from keras_bert import get_custom_objects\n",
    "\n",
    "tf.config.threading.set_intra_op_parallelism_threads(1)\n",
    "tf.config.threading.set_inter_op_parallelism_threads(32)\n",
    "\n",
    "from PIL import Image\n",
    "\n",
    "from os import listdir\n",
    "from os.path import isfile, join, isdir\n",
    "\n",
    "import seaborn as sns\n",
    "sns.set_style(\"white\")\n",
    "from matplotlib import pyplot as plt\n",
    "%matplotlib inline"
   ]
  },
  {
   "cell_type": "code",
   "execution_count": null,
   "metadata": {},
   "outputs": [],
   "source": [
    "from utils import get_clips_by_stride, get_train_set, get_single_test\n",
    "from utils import TRAIN_PATH, TEST_PATH"
   ]
  },
  {
   "cell_type": "code",
   "execution_count": null,
   "metadata": {},
   "outputs": [],
   "source": [
    "def ind2str(ind):\n",
    "    if ind < 10:\n",
    "        return '00' + str(ind)\n",
    "    elif ind < 100:\n",
    "        return '0' + str(ind)\n",
    "    else:\n",
    "        return str(ind)"
   ]
  },
  {
   "cell_type": "code",
   "execution_count": null,
   "metadata": {},
   "outputs": [],
   "source": [
    "# Example Show\n",
    "dir_ind = 1\n",
    "img_ind = 10\n",
    "img_f   = TRAIN_PATH + '/' + 'Train' + ind2str(dir_ind) + '/' + ind2str(img_ind) + '.tif'\n",
    "img_pil = Image.open(img_f, 'r')\n",
    "img_pil"
   ]
  },
  {
   "cell_type": "markdown",
   "metadata": {},
   "source": [
    "***Evaluate model***"
   ]
  },
  {
   "cell_type": "markdown",
   "metadata": {},
   "source": [
    "**CPU**"
   ]
  },
  {
   "cell_type": "code",
   "execution_count": null,
   "metadata": {},
   "outputs": [],
   "source": [
    "MODEL_PATH = 'out/ucsd.cpu/ucsd.cpu.hdf5'"
   ]
  },
  {
   "cell_type": "code",
   "execution_count": null,
   "metadata": {},
   "outputs": [],
   "source": [
    "model = load_model(MODEL_PATH, custom_objects=get_custom_objects())\n",
    "model.summary()"
   ]
  },
  {
   "cell_type": "code",
   "execution_count": null,
   "metadata": {},
   "outputs": [],
   "source": [
    "test = get_single_test()\n",
    "sz   = test.shape[0] - 10\n",
    "sequences = np.zeros((sz, 10, 256, 256, 1))\n",
    "# apply the sliding window technique to get the sequences\n",
    "for i in range(0, sz):\n",
    "    clip = np.zeros((10, 256, 256, 1))\n",
    "    for j in range(0, 10):\n",
    "        clip[j] = test[i + j, :, :, :]\n",
    "    sequences[i] = clip\n",
    "sequences.shape    "
   ]
  },
  {
   "cell_type": "markdown",
   "metadata": {},
   "source": [
    "*Test 32 of UCSDped1. At the beginning of the video, there is a bicycle on the walkway, which explains the low regularity score. After the bicycle left, the regularity score starts to increase. At frame 60, another bicycle enters, the regularity score decreases again and increases right after it left.*"
   ]
  },
  {
   "cell_type": "code",
   "execution_count": null,
   "metadata": {},
   "outputs": [],
   "source": [
    "reconstructed_sequences = model.predict(sequences,batch_size=4)\n",
    "sequences_reconstruction_cost = np.array([np.linalg.norm(np.subtract(sequences[i],reconstructed_sequences[i])) for i in range(0,sz)])\n",
    "sa = (sequences_reconstruction_cost - np.min(sequences_reconstruction_cost)) / np.max(sequences_reconstruction_cost)\n",
    "sr = 1.0 - sa\n",
    "\n",
    "# plot the regularity scores\n",
    "plt.plot(sr)\n",
    "plt.ylabel('regularity score Sr(t)')\n",
    "plt.xlabel('frame t')\n",
    "plt.show()"
   ]
  },
  {
   "cell_type": "markdown",
   "metadata": {},
   "source": [
    "**GPU**"
   ]
  },
  {
   "cell_type": "code",
   "execution_count": null,
   "metadata": {},
   "outputs": [],
   "source": [
    "MODEL_PATH = 'out/ucsd.gpu/ucsd.gpu.hdf5'"
   ]
  },
  {
   "cell_type": "code",
   "execution_count": null,
   "metadata": {},
   "outputs": [],
   "source": [
    "model = load_model(MODEL_PATH, custom_objects=get_custom_objects())\n",
    "model.summary()"
   ]
  },
  {
   "cell_type": "code",
   "execution_count": null,
   "metadata": {},
   "outputs": [],
   "source": [
    "test = get_single_test()\n",
    "sz   = test.shape[0] - 10\n",
    "sequences = np.zeros((sz, 10, 256, 256, 1))\n",
    "# apply the sliding window technique to get the sequences\n",
    "for i in range(0, sz):\n",
    "    clip = np.zeros((10, 256, 256, 1))\n",
    "    for j in range(0, 10):\n",
    "        clip[j] = test[i + j, :, :, :]\n",
    "    sequences[i] = clip\n",
    "sequences.shape    "
   ]
  },
  {
   "cell_type": "code",
   "execution_count": null,
   "metadata": {},
   "outputs": [],
   "source": [
    "reconstructed_sequences = model.predict(sequences,batch_size=4)\n",
    "sequences_reconstruction_cost = np.array([np.linalg.norm(np.subtract(sequences[i],reconstructed_sequences[i])) for i in range(0,sz)])\n",
    "sa = (sequences_reconstruction_cost - np.min(sequences_reconstruction_cost)) / np.max(sequences_reconstruction_cost)\n",
    "sr = 1.0 - sa\n",
    "\n",
    "# plot the regularity scores\n",
    "plt.plot(sr)\n",
    "plt.ylabel('regularity score Sr(t)')\n",
    "plt.xlabel('frame t')\n",
    "plt.show()"
   ]
  },
  {
   "cell_type": "markdown",
   "metadata": {},
   "source": [
    "## Compare CPU and GPU run time on UCSD"
   ]
  },
  {
   "cell_type": "markdown",
   "metadata": {},
   "source": [
    "## load recorded time"
   ]
  },
  {
   "cell_type": "code",
   "execution_count": null,
   "metadata": {},
   "outputs": [],
   "source": [
    "import pickle\n",
    "\n",
    "time_cpu = pickle.load(open('time_cpu.pkl', 'rb'))\n",
    "time_gpu = pickle.load(open('time_gpu.pkl', 'rb'))"
   ]
  },
  {
   "cell_type": "markdown",
   "metadata": {},
   "source": [
    "## plot the difference"
   ]
  },
  {
   "cell_type": "code",
   "execution_count": null,
   "metadata": {},
   "outputs": [],
   "source": [
    "import matplotlib.pyplot as plt\n",
    "import numpy as np"
   ]
  },
  {
   "cell_type": "code",
   "execution_count": null,
   "metadata": {},
   "outputs": [],
   "source": [
    "def show_diff(cpu_times, gpu_times, check_type):\n",
    "    cpu_mean = np.mean(cpu_times)\n",
    "    gpu_mean = np.mean(gpu_times)\n",
    "    \n",
    "    cpu_std  = np.std(cpu_times)\n",
    "    gpu_std  = np.std(gpu_times)\n",
    "    \n",
    "    types = ['cpu', 'gpu']\n",
    "    x_pos = np.arange(len(types))\n",
    "    \n",
    "    mean  = [cpu_mean, gpu_mean]\n",
    "    error = [cpu_std, gpu_std]\n",
    "    \n",
    "    # Build the plot\n",
    "    fig, ax = plt.subplots()\n",
    "    ax.bar(x_pos, mean, yerr=error, align='center', alpha=0.5, ecolor='black', capsize=10)\n",
    "    ax.set_ylabel('Average Run Time per ' + check_type)\n",
    "    ax.set_xticks(x_pos)\n",
    "    ax.set_xticklabels(types)\n",
    "    ax.set_title('Run Time Diff between CPU & GPU with UCSD')\n",
    "    ax.yaxis.grid(True)\n",
    "    \n",
    "    # Save the figure and show\n",
    "    plt.tight_layout()\n",
    "    plt.savefig('diff_plot_'+check_type+'.png')\n",
    "    plt.show()"
   ]
  },
  {
   "cell_type": "code",
   "execution_count": null,
   "metadata": {},
   "outputs": [],
   "source": [
    "# time_per_sample\n",
    "show_diff(time_cpu[0][1:], time_gpu[0][1:], 'Sample')"
   ]
  },
  {
   "cell_type": "code",
   "execution_count": null,
   "metadata": {},
   "outputs": [],
   "source": [
    "# time_per_echo\n",
    "show_diff(time_cpu[1][1:], time_gpu[1][1:], 'Epoch')"
   ]
  },
  {
   "cell_type": "code",
   "execution_count": null,
   "metadata": {},
   "outputs": [],
   "source": [
    "# time_per_echo\n",
    "show_diff(time_cpu[2], time_gpu[2], 'Train')"
   ]
  },
  {
   "cell_type": "code",
   "execution_count": null,
   "metadata": {},
   "outputs": [],
   "source": []
  }
 ],
 "metadata": {
  "kernelspec": {
   "display_name": "Python 3.7.6 64-bit ('gpu': conda)",
   "language": "python",
   "name": "python37664bitgpuconda4c4bd23f773643ba95c998eee877d99b"
  },
  "language_info": {
   "codemirror_mode": {
    "name": "ipython",
    "version": 3
   },
   "file_extension": ".py",
   "mimetype": "text/x-python",
   "name": "python",
   "nbconvert_exporter": "python",
   "pygments_lexer": "ipython3",
   "version": "3.7.6"
  }
 },
 "nbformat": 4,
 "nbformat_minor": 4
}
